{
 "cells": [
  {
   "cell_type": "code",
   "execution_count": 23,
   "metadata": {},
   "outputs": [],
   "source": [
    "import pickle\n",
    "import numpy as np\n",
    "import os\n",
    "from matplotlib import pyplot as plt"
   ]
  },
  {
   "cell_type": "code",
   "execution_count": 3,
   "metadata": {},
   "outputs": [],
   "source": [
    "files = ['Noisy/' + x for x in os.listdir('Noisy')]"
   ]
  },
  {
   "cell_type": "code",
   "execution_count": 5,
   "metadata": {},
   "outputs": [],
   "source": [
    "files\n",
    "X_all = []\n",
    "Y_all = []"
   ]
  },
  {
   "cell_type": "code",
   "execution_count": 15,
   "metadata": {},
   "outputs": [],
   "source": [
    "for file in files:\n",
    "    with open(file, 'rb') as f:\n",
    "        data = pickle.load(f)\n",
    "\n",
    "    X, Y = data['X'], data['Y']\n",
    "    X_all.append(X)\n",
    "    Y_all.append(Y)"
   ]
  },
  {
   "cell_type": "markdown",
   "metadata": {},
   "source": [
    "The below two functions are from the paper author, sourced [here](https://github.com/rflamary/AstroImageReconsCNN/blob/master/dsutils.py). I have no idea how/why/if they work. I'm trusting the author."
   ]
  },
  {
   "cell_type": "code",
   "execution_count": 18,
   "metadata": {},
   "outputs": [],
   "source": [
    "def get_sample(I,Ip,sz,szp):\n",
    "    \"\"\"\n",
    "    geta  random sample (small image from I of size sz*sz and its corresponding \n",
    "    smaller image from Ip of size szp*szp)\n",
    "    \"\"\"\n",
    "    i=np.random.randint(0,I.shape[0]-sz)\n",
    "    j=np.random.randint(0,I.shape[1]-sz)\n",
    "    delt=int(np.ceil((sz-szp)*1.0/2))\n",
    "    if szp==1:\n",
    "        y=Ip[i+delt,j+delt]\n",
    "    else:\n",
    "        y=Ip[i+delt:i+sz-delt,j+delt:j+sz-delt]\n",
    "    return I[i:i+sz,j:j+sz],y"
   ]
  },
  {
   "cell_type": "code",
   "execution_count": 19,
   "metadata": {},
   "outputs": [],
   "source": [
    "def get_data_multi(I,Ip,sz,szp,n):\n",
    "    \"\"\"\n",
    "    Gets random image crop pairs of given sizes\n",
    "    \n",
    "    Args:\n",
    "    I: The list of input images (X_all). This should have shape (n_images, img_shape...)\n",
    "    Ip: The list of output images (Y_all).\n",
    "    sz: The size of the input image crops required\n",
    "    szp: The size of the output image crops required\n",
    "    n: The number of crop pairs required.\n",
    "    \"\"\"\n",
    "    nbi=len(I)\n",
    "    xapp=np.zeros((n,1,sz,sz))\n",
    "    xtest=np.zeros((n,1,szp,szp))\n",
    "    for i in range(n):\n",
    "        im=np.random.randint(0,nbi)\n",
    "        xapp[i,:,:,:],xtest[i,:,:,:]=get_sample(I[im],Ip[im],sz,szp)\n",
    "    return xapp,xtest "
   ]
  },
  {
   "cell_type": "code",
   "execution_count": 20,
   "metadata": {},
   "outputs": [],
   "source": [
    "X_crops, Y_crops = get_data_multi(X_all, Y_all, 32, 14, 5)"
   ]
  },
  {
   "cell_type": "code",
   "execution_count": 21,
   "metadata": {},
   "outputs": [
    {
     "data": {
      "text/plain": [
       "(5, 1, 32, 32)"
      ]
     },
     "execution_count": 21,
     "metadata": {},
     "output_type": "execute_result"
    }
   ],
   "source": [
    "X_crops.shape"
   ]
  },
  {
   "cell_type": "code",
   "execution_count": 22,
   "metadata": {},
   "outputs": [
    {
     "data": {
      "text/plain": [
       "(5, 1, 14, 14)"
      ]
     },
     "execution_count": 22,
     "metadata": {},
     "output_type": "execute_result"
    }
   ],
   "source": [
    "Y_crops.shape"
   ]
  },
  {
   "cell_type": "code",
   "execution_count": 27,
   "metadata": {},
   "outputs": [
    {
     "data": {
      "text/plain": [
       "<matplotlib.image.AxesImage at 0x7f45b7199a20>"
      ]
     },
     "execution_count": 27,
     "metadata": {},
     "output_type": "execute_result"
    },
    {
     "data": {
      "image/png": "[encoded data removed]",
      "text/plain": [
       "<Figure size 432x288 with 1 Axes>"
      ]
     },
     "metadata": {},
     "output_type": "display_data"
    }
   ],
   "source": [
    "plt.imshow(X_crops[0][0], cmap='gray')"
   ]
  },
  {
   "cell_type": "code",
   "execution_count": 26,
   "metadata": {},
   "outputs": [
    {
     "data": {
      "image/png": "[encoded data removed]",
      "text/plain": [
       "<Figure size 432x288 with 1 Axes>"
      ]
     },
     "metadata": {},
     "output_type": "display_data"
    }
   ],
   "source": [
    "plt.imshow(Y_crops[0][0], cmap='gray');"
   ]
  },
  {
   "cell_type": "code",
   "execution_count": null,
   "metadata": {},
   "outputs": [],
   "source": []
  }
 ],
 "metadata": {
  "kernelspec": {
   "display_name": "Python 3",
   "language": "python",
   "name": "python3"
  },
  "language_info": {
   "codemirror_mode": {
    "name": "ipython",
    "version": 3
   },
   "file_extension": ".py",
   "mimetype": "text/x-python",
   "name": "python",
   "nbconvert_exporter": "python",
   "pygments_lexer": "ipython3",
   "version": "3.6.6"
  }
 },
 "nbformat": 4,
 "nbformat_minor": 2
}
