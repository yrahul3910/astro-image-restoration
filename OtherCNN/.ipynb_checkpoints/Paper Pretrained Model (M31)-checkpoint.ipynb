{
 "cells": [
  {
   "cell_type": "code",
   "execution_count": 21,
   "metadata": {},
   "outputs": [],
   "source": [
    "from keras.models import model_from_json\n",
    "import numpy as np\n",
    "from astropy.io.fits import getdata, PrimaryHDU"
   ]
  },
  {
   "cell_type": "code",
   "execution_count": 5,
   "metadata": {},
   "outputs": [],
   "source": [
    "def im2patch(I,sz,szp):\n",
    "    delt,n1,n2=im2patch_len(I.shape,sz,szp)\n",
    "    idx=0\n",
    "    patches=np.zeros((n1*n2,1,sz,sz))\n",
    "    for i in range(n1):\n",
    "        for j in range(n2):\n",
    "            patches[idx,:,:,:]=I[i*szp:i*szp+sz,j*szp:j*szp+sz]\n",
    "            idx+=1\n",
    "    return patches"
   ]
  },
  {
   "cell_type": "code",
   "execution_count": 6,
   "metadata": {},
   "outputs": [],
   "source": [
    "def im2patch_len(imzize,sz,szp):\n",
    "    delt=int(np.ceil((sz-szp)*1.0/2))\n",
    "    n1=int(np.floor((imzize[0]-2*delt)*1.0/szp))\n",
    "    n2=int(np.floor((imzize[1]-2*delt)*1.0/szp))\n",
    "    return delt,n1,n2"
   ]
  },
  {
   "cell_type": "code",
   "execution_count": 7,
   "metadata": {},
   "outputs": [],
   "source": [
    "def patch2im(patches,imsize,sz,szp):\n",
    "    delt,n1,n2=im2patch_len(imsize,sz,szp)\n",
    "    I=np.zeros(imsize)\n",
    "    idx=0\n",
    "    for i in range(n1):\n",
    "        for j in range(n2):\n",
    "            I[i*szp+delt:(i+1)*szp+delt,j*szp+delt:(j+1)*szp+delt]=patches[idx,:,:,:]\n",
    "            idx+=1\n",
    "    return I "
   ]
  },
  {
   "cell_type": "code",
   "execution_count": 3,
   "metadata": {},
   "outputs": [
    {
     "name": "stderr",
     "output_type": "stream",
     "text": [
      "/usr/local/lib64/python3.6/site-packages/keras/engine/base_layer.py:1124: UserWarning: Update your `Conv2D` call to the Keras 2 API: `Conv2D(name=\"convolution2d_4\", activity_regularizer=None, trainable=True, input_dtype=\"float32\", batch_input_shape=[None, 1, ..., activation=\"relu\", kernel_size=(10, 10), filters=64, strides=[1, 1], padding=\"valid\", data_format=\"channels_first\", kernel_initializer=\"glorot_uniform\", kernel_regularizer=None, bias_regularizer=None, kernel_constraint=None, bias_constraint=None, use_bias=True)`\n",
      "  return cls(**config)\n",
      "/usr/local/lib64/python3.6/site-packages/keras/engine/base_layer.py:1124: UserWarning: Update your `Conv2D` call to the Keras 2 API: `Conv2D(name=\"convolution2d_5\", activity_regularizer=None, trainable=True, activation=\"relu\", kernel_size=(6, 6), filters=16, strides=[1, 1], padding=\"valid\", data_format=\"channels_first\", kernel_initializer=\"glorot_uniform\", kernel_regularizer=None, bias_regularizer=None, kernel_constraint=None, bias_constraint=None, use_bias=True)`\n",
      "  return cls(**config)\n",
      "/usr/local/lib64/python3.6/site-packages/keras/engine/base_layer.py:1124: UserWarning: Update your `Conv2D` call to the Keras 2 API: `Conv2D(name=\"convolution2d_6\", activity_regularizer=None, trainable=True, activation=\"relu\", kernel_size=(5, 5), filters=1, strides=[1, 1], padding=\"valid\", data_format=\"channels_first\", kernel_initializer=\"glorot_uniform\", kernel_regularizer=None, bias_regularizer=None, kernel_constraint=None, bias_constraint=None, use_bias=True)`\n",
      "  return cls(**config)\n"
     ]
    }
   ],
   "source": [
    "model = model_from_json(open('PaperPretrained/32x32_10x10-64_6x6-16_5x5-1_PSF64_sigma0.010_M31.json').read())\n",
    "model.load_weights('PaperPretrained/32x32_10x10-64_6x6-16_5x5-1_PSF64_sigma0.010_M31.h5')"
   ]
  },
  {
   "cell_type": "code",
   "execution_count": 12,
   "metadata": {},
   "outputs": [],
   "source": [
    "I0_all = [getdata('BadM13I20120611.fits') * 1.0]\n",
    "I_all=[np.maximum(0,I/I.max()) for I in I0_all]"
   ]
  },
  {
   "cell_type": "code",
   "execution_count": 13,
   "metadata": {},
   "outputs": [],
   "source": [
    "szi = 32\n",
    "szo = 14"
   ]
  },
  {
   "cell_type": "code",
   "execution_count": 14,
   "metadata": {},
   "outputs": [],
   "source": [
    "Ipatch = im2patch(I_all[0], szi, szo)"
   ]
  },
  {
   "cell_type": "code",
   "execution_count": 15,
   "metadata": {},
   "outputs": [],
   "source": [
    "Ipred = model.predict(Ipatch)"
   ]
  },
  {
   "cell_type": "code",
   "execution_count": 16,
   "metadata": {},
   "outputs": [],
   "source": [
    "Irec = patch2im(Ipred, I_all[0].shape, szi, szo)"
   ]
  },
  {
   "cell_type": "code",
   "execution_count": 17,
   "metadata": {},
   "outputs": [
    {
     "data": {
      "text/plain": [
       "(2048, 2048)"
      ]
     },
     "execution_count": 17,
     "metadata": {},
     "output_type": "execute_result"
    }
   ],
   "source": [
    "Irec.shape"
   ]
  },
  {
   "cell_type": "code",
   "execution_count": 22,
   "metadata": {},
   "outputs": [],
   "source": [
    "hdu = PrimaryHDU(Irec)\n",
    "hdu.writeto('PaperPretrained/paper_prediction.h5')"
   ]
  },
  {
   "cell_type": "code",
   "execution_count": null,
   "metadata": {},
   "outputs": [],
   "source": []
  }
 ],
 "metadata": {
  "kernelspec": {
   "display_name": "Python 3",
   "language": "python",
   "name": "python3"
  },
  "language_info": {
   "codemirror_mode": {
    "name": "ipython",
    "version": 3
   },
   "file_extension": ".py",
   "mimetype": "text/x-python",
   "name": "python",
   "nbconvert_exporter": "python",
   "pygments_lexer": "ipython3",
   "version": "3.6.6"
  }
 },
 "nbformat": 4,
 "nbformat_minor": 2
}
