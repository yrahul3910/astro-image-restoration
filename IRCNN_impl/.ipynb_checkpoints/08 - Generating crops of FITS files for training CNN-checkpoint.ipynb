{
 "cells": [
  {
   "cell_type": "code",
   "execution_count": 1,
   "metadata": {},
   "outputs": [],
   "source": [
    "import os\n",
    "from astropy.io.fits import getdata\n",
    "import numpy as np\n",
    "import pickle\n",
    "import random\n",
    "import itertools"
   ]
  },
  {
   "cell_type": "code",
   "execution_count": 2,
   "metadata": {},
   "outputs": [],
   "source": [
    "good_frames = os.listdir(os.path.join(os.path.pardir, 'AlignedFrames', 'Good'))\n",
    "bad_frames = os.listdir(os.path.join(os.path.pardir, 'AlignedFrames', 'Bad'))"
   ]
  },
  {
   "cell_type": "code",
   "execution_count": 3,
   "metadata": {},
   "outputs": [],
   "source": [
    "def get_crops(img1, img2, n, size):\n",
    "    \"\"\"\n",
    "    Generates n crops of size `size` of the images.\n",
    "    \"\"\"\n",
    "    crops1 = []\n",
    "    crops2 = []\n",
    "    img_size = len(img1)\n",
    "    \n",
    "    for i in range(n):\n",
    "        start_x = random.randint(0, img_size - size - 1)\n",
    "        start_y = random.randint(0, img_size - size - 1)\n",
    "        \n",
    "        end_x = start_x + size\n",
    "        end_y = start_y + size\n",
    "        \n",
    "        crops1.append(img1[start_x:end_x, start_y:end_y])\n",
    "        crops2.append(img2[start_x:end_x, start_y:end_y])\n",
    "    \n",
    "    return np.array(crops1), np.array(crops2)"
   ]
  },
  {
   "cell_type": "code",
   "execution_count": 4,
   "metadata": {},
   "outputs": [],
   "source": [
    "pairs = list(itertools.product(bad_frames, good_frames))"
   ]
  },
  {
   "cell_type": "code",
   "execution_count": 5,
   "metadata": {},
   "outputs": [
    {
     "data": {
      "text/plain": [
       "160"
      ]
     },
     "execution_count": 5,
     "metadata": {},
     "output_type": "execute_result"
    }
   ],
   "source": [
    "len(pairs)"
   ]
  },
  {
   "cell_type": "code",
   "execution_count": 6,
   "metadata": {},
   "outputs": [
    {
     "data": {
      "text/plain": [
       "('M13V20130714.fits', 'M13V20110624.fits')"
      ]
     },
     "execution_count": 6,
     "metadata": {},
     "output_type": "execute_result"
    }
   ],
   "source": [
    "pairs[0]"
   ]
  },
  {
   "cell_type": "code",
   "execution_count": 7,
   "metadata": {},
   "outputs": [],
   "source": [
    "# Get 100 crops from each pair\n",
    "X = []\n",
    "Y = []\n",
    "\n",
    "for bad, good in pairs:\n",
    "    bad_data = getdata('../AlignedFrames/Bad/' + bad)\n",
    "    good_data = getdata('../AlignedFrames/Good/' + good)\n",
    "    \n",
    "    bad_crops, good_crops = get_crops(bad_data, good_data, 100, 32)\n",
    "    X.extend(bad_crops)\n",
    "    Y.extend(good_crops)"
   ]
  },
  {
   "cell_type": "code",
   "execution_count": 8,
   "metadata": {},
   "outputs": [],
   "source": [
    "X = np.array(X)\n",
    "Y = np.array(Y)"
   ]
  },
  {
   "cell_type": "code",
   "execution_count": 9,
   "metadata": {},
   "outputs": [
    {
     "data": {
      "text/plain": [
       "(16000, 32, 32)"
      ]
     },
     "execution_count": 9,
     "metadata": {},
     "output_type": "execute_result"
    }
   ],
   "source": [
    "X.shape"
   ]
  },
  {
   "cell_type": "code",
   "execution_count": 10,
   "metadata": {},
   "outputs": [
    {
     "data": {
      "text/plain": [
       "(16000, 32, 32)"
      ]
     },
     "execution_count": 10,
     "metadata": {},
     "output_type": "execute_result"
    }
   ],
   "source": [
    "Y.shape"
   ]
  },
  {
   "cell_type": "code",
   "execution_count": 11,
   "metadata": {},
   "outputs": [],
   "source": [
    "with open('crop_data_x.pickle', 'wb') as f:\n",
    "    pickle.dump(X, f)\n",
    "\n",
    "with open('crop_data_y.pickle', 'wb') as f:\n",
    "    pickle.dump(Y, f)"
   ]
  },
  {
   "cell_type": "code",
   "execution_count": null,
   "metadata": {},
   "outputs": [],
   "source": []
  }
 ],
 "metadata": {
  "kernelspec": {
   "display_name": "Python 3",
   "language": "python",
   "name": "python3"
  },
  "language_info": {
   "codemirror_mode": {
    "name": "ipython",
    "version": 3
   },
   "file_extension": ".py",
   "mimetype": "text/x-python",
   "name": "python",
   "nbconvert_exporter": "python",
   "pygments_lexer": "ipython3",
   "version": "3.7.1"
  }
 },
 "nbformat": 4,
 "nbformat_minor": 2
}
