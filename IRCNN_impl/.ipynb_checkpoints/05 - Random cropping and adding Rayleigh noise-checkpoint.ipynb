{
 "cells": [
  {
   "cell_type": "markdown",
   "metadata": {},
   "source": [
    "This notebook generates random 35 x 35 crops of images for a total of about 425k crops. It then adds noise to these and saves the resulting images. This needs to be run after the red channels have been extracted from the images."
   ]
  },
  {
   "cell_type": "code",
   "execution_count": 1,
   "metadata": {},
   "outputs": [],
   "source": [
    "from random import randint\n",
    "from PIL import Image\n",
    "from scipy import stats as st\n",
    "import os\n",
    "import numpy as np\n",
    "from tqdm import tqdm"
   ]
  },
  {
   "cell_type": "code",
   "execution_count": 2,
   "metadata": {},
   "outputs": [],
   "source": [
    "def get_random_crop(img, dx, dy):\n",
    "    x_max, y_max = img.shape\n",
    "    x = randint(0, x_max - dx - 1)\n",
    "    y = randint(0, y_max - dy - 1)\n",
    "    \n",
    "    return img[x:x+dx, y:y+dy]"
   ]
  },
  {
   "cell_type": "code",
   "execution_count": 3,
   "metadata": {},
   "outputs": [],
   "source": [
    "def get_n_crops(img, n, dx, dy):\n",
    "    crops = []\n",
    "    for i in range(n):\n",
    "        crops.append(get_random_crop(img, dx, dy))\n",
    "    \n",
    "    return crops"
   ]
  },
  {
   "cell_type": "code",
   "execution_count": 4,
   "metadata": {},
   "outputs": [],
   "source": [
    "def add_rayleigh_noise(img):\n",
    "    noise = st.rayleigh.rvs(loc=-50.90199985022714, scale=71.70478968403172, size=img.shape)\n",
    "    return img + noise"
   ]
  },
  {
   "cell_type": "code",
   "execution_count": 6,
   "metadata": {},
   "outputs": [],
   "source": [
    "files = os.listdir('VOC2012/train_red_channel')"
   ]
  },
  {
   "cell_type": "code",
   "execution_count": 7,
   "metadata": {},
   "outputs": [
    {
     "name": "stderr",
     "output_type": "stream",
     "text": [
      "100%|██████████| 17025/17025 [23:43<00:00, 11.96it/s]\n"
     ]
    }
   ],
   "source": [
    "# Generate the crops and their noisy counterparts\n",
    "for i in tqdm(range(len(files))):\n",
    "    file = files[i]\n",
    "    data = np.array(Image.open('VOC2012/train_red_channel/' + file))\n",
    "    crops = get_n_crops(data, 25, 35, 35)\n",
    "    noisy = [add_rayleigh_noise(x) for x in crops]\n",
    "    \n",
    "    for j in range(25):\n",
    "        red_im = Image.fromarray(crops[j])\n",
    "        ray_im = Image.fromarray(noisy[j])\n",
    "        red_im = red_im.convert('L')\n",
    "        ray_im = ray_im.convert('L')\n",
    "        \n",
    "        red_im.save('VOC2012/red_crops/' + file.split('.')[0] + '-' + str(j) + '.png')\n",
    "        ray_im.save('VOC2012/rayleigh_crops/' + file.split('.')[0] + '-' + str(j) + '.png')"
   ]
  },
  {
   "cell_type": "code",
   "execution_count": null,
   "metadata": {},
   "outputs": [],
   "source": []
  }
 ],
 "metadata": {
  "kernelspec": {
   "display_name": "Python 3",
   "language": "python",
   "name": "python3"
  },
  "language_info": {
   "codemirror_mode": {
    "name": "ipython",
    "version": 3
   },
   "file_extension": ".py",
   "mimetype": "text/x-python",
   "name": "python",
   "nbconvert_exporter": "python",
   "pygments_lexer": "ipython3",
   "version": "3.6.6"
  }
 },
 "nbformat": 4,
 "nbformat_minor": 2
}
